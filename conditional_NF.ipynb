{
 "cells": [
  {
   "cell_type": "code",
   "execution_count": 1,
   "id": "religious-shock",
   "metadata": {},
   "outputs": [],
   "source": [
    "import numpy as np\n",
    "import pandas as pd\n",
    "import matplotlib.pyplot as plt\n",
    "import sklearn.datasets as datasets\n",
    "\n",
    "import torch\n",
    "from torch import nn\n",
    "from torch import optim\n",
    "\n",
    "# install nflows package as: $ pip install nflows\n",
    "from nflows.flows.base import Flow\n",
    "from nflows.distributions.normal import ConditionalDiagonalNormal\n",
    "from nflows.transforms.base import CompositeTransform\n",
    "from nflows.transforms.autoregressive import MaskedAffineAutoregressiveTransform, MaskedPiecewiseQuadraticAutoregressiveTransform\n",
    "from nflows.transforms.permutations import ReversePermutation\n",
    "from nflows.nn.nets import ResidualNet"
   ]
  },
  {
   "cell_type": "code",
   "execution_count": 2,
   "id": "driving-basic",
   "metadata": {},
   "outputs": [],
   "source": [
    "# Get calibration observations and labels \n",
    "# Load observations\n",
    "# file = np.load('../Mixed_data/NF_mixed_train_test_data.npz')  # get earth data after earth_2_mars transform\n",
    "# calib_data = file['y_calib']\n",
    "# # Load wavelengths\n",
    "# w = file['w']\n",
    "\n",
    "# # Load compositions\n",
    "# file2 = np.load('../calibration_data/calibration_data.npz')\n",
    "# comp = file2['c']\n",
    "# comp.shape\n",
    "\n",
    "# # Plot first sample\n",
    "# plt.plot(w, calib_data[0,:])\n",
    "# plt.show()\n",
    "# calib_data.shape"
   ]
  },
  {
   "cell_type": "code",
   "execution_count": 3,
   "id": "accepting-vacuum",
   "metadata": {},
   "outputs": [],
   "source": [
    "# Set up data\n",
    "\n",
    "# LIBS data\n",
    "# x = calib_data\n",
    "# y = comp[:,0]\n",
    "# x = torch.tensor(x, dtype=torch.float32)\n",
    "# y = torch.tensor(y, dtype=torch.float32).reshape(-1, 1)\n",
    "# dim_in = x.shape[1]\n",
    "# dim_out = 1\n",
    "\n",
    "\n",
    "# moons data (toy 2D dataset)\n",
    "x, y = datasets.make_moons(400, noise=.1)\n",
    "x = torch.tensor(x, dtype=torch.float32)\n",
    "y = torch.tensor(y, dtype=torch.float32).reshape(-1, 1)\n",
    "dim_in = 2\n",
    "dim_out = 1\n",
    "\n",
    "\n",
    "#California housing dataset\n",
    "# import sklearn\n",
    "# housing = sklearn.datasets.fetch_california_housing()\n",
    "# x = housing.data[:1000]\n",
    "# y = housing.target[:1000]\n",
    "# x = torch.tensor(x, dtype=torch.float32)\n",
    "# y = torch.tensor(y, dtype=torch.float32).reshape(-1, 1)\n",
    "# dim_in = x.shape[1]\n",
    "# dim_out = y.shape[1]"
   ]
  },
  {
   "cell_type": "code",
   "execution_count": 4,
   "id": "deadly-pleasure",
   "metadata": {},
   "outputs": [
    {
     "name": "stdout",
     "output_type": "stream",
     "text": [
      "torch.Size([400, 2]) torch.Size([400, 1])\n"
     ]
    }
   ],
   "source": [
    "print(x.shape, y.shape)"
   ]
  },
  {
   "cell_type": "code",
   "execution_count": 5,
   "id": "olympic-guest",
   "metadata": {},
   "outputs": [],
   "source": [
    "num_layers = 5\n",
    "base_dist = ConditionalDiagonalNormal(shape=[dim_in], \n",
    "                                      context_encoder=nn.Linear(1, 2*dim_in))\n",
    "\n",
    "transforms = []\n",
    "for _ in range(num_layers):\n",
    "    transforms.append(ReversePermutation(features=dim_in))\n",
    "    transforms.append(MaskedAffineAutoregressiveTransform(features=dim_in, \n",
    "                                                          hidden_features=4, \n",
    "                                                          context_features=dim_out))\n",
    "transform = CompositeTransform(transforms)\n",
    "\n",
    "flow = Flow(transform, base_dist)\n",
    "optimizer = optim.Adam(flow.parameters())"
   ]
  },
  {
   "cell_type": "code",
   "execution_count": 6,
   "id": "fifth-reference",
   "metadata": {},
   "outputs": [
    {
     "name": "stdout",
     "output_type": "stream",
     "text": [
      "Loss: 1.8432120084762573\n",
      "Loss: 1.4016685485839844\n",
      "Loss: 1.1709017753601074\n",
      "Loss: 0.7958227396011353\n",
      "Loss: 0.5213993787765503\n",
      "Loss: 0.39345768094062805\n",
      "Loss: 0.3523269593715668\n",
      "Loss: 0.33211711049079895\n",
      "Loss: 0.32146763801574707\n",
      "Loss: 0.31454411149024963\n"
     ]
    }
   ],
   "source": [
    "num_iter = 2000\n",
    "loss_all = []\n",
    "for i in range(num_iter):\n",
    "    \n",
    "    optimizer.zero_grad()\n",
    "    loss = -flow.log_prob(inputs=x, context=y).mean()\n",
    "    \n",
    "    loss_all.append(loss.item())  # save loss\n",
    "    if (i + 1) % 200 == 0:\n",
    "        print('Loss:', loss.item())\n",
    "    \n",
    "    loss.backward()\n",
    "    optimizer.step()\n"
   ]
  },
  {
   "cell_type": "code",
   "execution_count": 7,
   "id": "received-density",
   "metadata": {},
   "outputs": [
    {
     "data": {
      "image/png": "[encoded data removed]",
      "text/plain": [
       "<Figure size 432x288 with 1 Axes>"
      ]
     },
     "metadata": {
      "needs_background": "light"
     },
     "output_type": "display_data"
    }
   ],
   "source": [
    "# Save results\n",
    "plt.figure()\n",
    "plt.plot(loss_all)\n",
    "plt.xlabel('iteration #')\n",
    "plt.ylabel('NLL')\n",
    "\n",
    "import os\n",
    "if not os.path.exists('results'):\n",
    "    os.makedirs('results')\n",
    "plt.savefig('results/loss.png')"
   ]
  },
  {
   "cell_type": "code",
   "execution_count": 8,
   "id": "improving-convenience",
   "metadata": {},
   "outputs": [
    {
     "data": {
      "text/plain": [
       "<matplotlib.collections.PathCollection at 0x7fe41bee5dd0>"
      ]
     },
     "execution_count": 8,
     "metadata": {},
     "output_type": "execute_result"
    },
    {
     "data": {
      "image/png": "[encoded data removed]",
      "text/plain": [
       "<Figure size 432x288 with 1 Axes>"
      ]
     },
     "metadata": {
      "needs_background": "light"
     },
     "output_type": "display_data"
    }
   ],
   "source": [
    "# Reconstruct moons from known labels\n",
    "import numpy as np\n",
    "bb = np.array([0,1]) # get samples from both labels (for regression problems this is not binary)\n",
    "sav = flow.sample_and_log_prob(num_samples=90, context=torch.as_tensor(bb.reshape(-1,1)).float())\n",
    "plt.scatter(sav[0][0][:,0].detach().numpy(), sav[0][0][:,1].detach().numpy())\n",
    "plt.scatter(sav[0][1][:,0].detach().numpy(), sav[0][1][:,1].detach().numpy())"
   ]
  },
  {
   "cell_type": "code",
   "execution_count": null,
   "id": "private-candidate",
   "metadata": {},
   "outputs": [],
   "source": []
  },
  {
   "cell_type": "code",
   "execution_count": null,
   "id": "focused-request",
   "metadata": {},
   "outputs": [],
   "source": []
  },
  {
   "cell_type": "code",
   "execution_count": null,
   "id": "lasting-piano",
   "metadata": {},
   "outputs": [],
   "source": []
  }
 ],
 "metadata": {
  "kernelspec": {
   "display_name": "Python 3",
   "language": "python",
   "name": "python3"
  },
  "language_info": {
   "codemirror_mode": {
    "name": "ipython",
    "version": 3
   },
   "file_extension": ".py",
   "mimetype": "text/x-python",
   "name": "python",
   "nbconvert_exporter": "python",
   "pygments_lexer": "ipython3",
   "version": "3.7.7"
  }
 },
 "nbformat": 4,
 "nbformat_minor": 5
}
